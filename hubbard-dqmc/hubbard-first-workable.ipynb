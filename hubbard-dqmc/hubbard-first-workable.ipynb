{
 "cells": [
  {
   "cell_type": "code",
   "execution_count": 1,
   "metadata": {},
   "outputs": [],
   "source": [
    "import numpy as np\n",
    "import matplotlib.pyplot as plt\n",
    "from random import randint, uniform"
   ]
  },
  {
   "cell_type": "code",
   "execution_count": 2,
   "metadata": {},
   "outputs": [],
   "source": [
    "# test ok\n",
    "\n",
    "# measure the difference between matrices, and the relative error\n",
    "def mat_div(m1, m2):\n",
    "    return np.sum((m1 - m2) ** 2)\n",
    "\n",
    "def mat_div_relative(m1, m2):\n",
    "    return mat_div(m1, m2) / mat_div(m1, np.zeros(m1.shape))\n",
    "\n",
    "def relative_error(a, b):\n",
    "    return np.abs(a - b) / a"
   ]
  },
  {
   "cell_type": "code",
   "execution_count": 3,
   "metadata": {},
   "outputs": [],
   "source": [
    "# parameters in the simulation\n",
    "\n",
    "# parameters in the Hubbard model\n",
    "U = 8.0\n",
    "beta = 4\n",
    "\n",
    "# Parameters about the lattice\n",
    "# $L$ is required to be even to enable the checkboard decomposition\n",
    "L = 4\n",
    "\n",
    "# parameters about the simulation\n",
    "dtau = 0.05\n",
    "n_sweep = 400\n",
    "# 多久做一次UDV计算；必须整除n_imtime\n",
    "n_wrap = 10"
   ]
  },
  {
   "cell_type": "markdown",
   "metadata": {},
   "source": [
    "# Parameters and initialization"
   ]
  },
  {
   "cell_type": "code",
   "execution_count": 4,
   "metadata": {},
   "outputs": [],
   "source": [
    "# test ok\n",
    "\n",
    "# 衍生的参数，以及必要的初始化\n",
    "\n",
    "# 总的site数目\n",
    "n_site = L ** 2\n",
    "# 虚时间点数目\n",
    "n_imtime = int(beta / dtau)\n",
    "# alpha值，用于计算相互作用哈密顿量\n",
    "alpha = np.arccosh(np.exp(dtau * U / 2))\n",
    "# 辅助场时间线，第一个维度是虚时间点，第二个维度是site；使用编号（而不是xy坐标）标记site\n",
    "s = np.random.randint(0, 2, size=(n_imtime, n_site), dtype=int) * 2 - 1\n",
    "# [test]\n",
    "s = abs(s)\n",
    "\n",
    "I = np.eye(n_site)"
   ]
  },
  {
   "cell_type": "code",
   "execution_count": 5,
   "metadata": {},
   "outputs": [],
   "source": [
    "# test ok\n",
    "\n",
    "# 施加周期性边界条件\n",
    "def pbc(i, j):\n",
    "    return (i % L, j % L)\n",
    "\n",
    "# grid_list将grid编号映射为其坐标\n",
    "grid_list = []\n",
    "# inverse_list[i, j]将位于(i, j)的格点坐标映射为格点编号；要注意i对应y而j对应x\n",
    "inverse_list = []\n",
    "\n",
    "for i in range(0, L):\n",
    "    inverse_list.append([])\n",
    "    for j in range(0, L):\n",
    "        grid_list.append((i, j))\n",
    "        inverse_list[i].append(i * L + j)\n",
    "\n",
    "inverse_list = np.array(inverse_list)\n",
    "\n",
    "# neighbor_list[i, 0..8]给出格点编号为i的格点的所有邻居,0是格点自己，1234是最近邻，5678是次近邻\n",
    "neighbor_list = np.zeros((n_site, 9), dtype=np.int32)\n",
    "\n",
    "for i in range(0, L):\n",
    "    for j in range(0, L):\n",
    "        this_site = inverse_list[i, j]\n",
    "        neighbor_list[this_site, 0] = this_site\n",
    "        neighbor_list[this_site, 1] = inverse_list[pbc(i, j + 1)]\n",
    "        neighbor_list[this_site, 2] = inverse_list[pbc(i + 1, j)]\n",
    "        neighbor_list[this_site, 3] = inverse_list[pbc(i, j - 1)]\n",
    "        neighbor_list[this_site, 4] = inverse_list[pbc(i - 1, j)]\n",
    "        neighbor_list[this_site, 5] = inverse_list[pbc(i + 1, j + 1)]\n",
    "        neighbor_list[this_site, 6] = inverse_list[pbc(i + 1, j - 1)]\n",
    "        neighbor_list[this_site, 7] = inverse_list[pbc(i - 1, j - 1)]\n",
    "        neighbor_list[this_site, 8] = inverse_list[pbc(i - 1, j + 1)]\n",
    "    \n",
    "T = np.zeros((n_site, n_site))\n",
    "\n",
    "for i in range(0, n_site):\n",
    "    for nn in [1, 2, 3, 4]:\n",
    "        T[i, neighbor_list[i, nn]] = -1\n"
   ]
  },
  {
   "cell_type": "markdown",
   "metadata": {},
   "source": [
    "# Some optiimzed way to compute specific matrices"
   ]
  },
  {
   "cell_type": "markdown",
   "metadata": {},
   "source": [
    "## The kinetic part"
   ]
  },
  {
   "cell_type": "code",
   "execution_count": 6,
   "metadata": {},
   "outputs": [],
   "source": [
    "# Check-board decomposition\n",
    "# 第一个指标为plaque的种类，第二个指标为plaque左下角的格点序号\n",
    "plaque_sites = np.zeros((2, int(n_site / 4)), dtype=int)\n",
    "\n",
    "first_class_count = 0\n",
    "second_class_count = 0\n",
    "for i in range(0, L):\n",
    "    for j in range(0, L):\n",
    "        if i % 2 == 0 and j % 2 == 0:\n",
    "            plaque_sites[0, first_class_count] = inverse_list[i, j]\n",
    "            first_class_count += 1\n",
    "        elif i % 2 == 1 and j % 2 == 1:\n",
    "            plaque_sites[1, second_class_count] = inverse_list[i, j]\n",
    "            second_class_count += 1"
   ]
  },
  {
   "cell_type": "code",
   "execution_count": 7,
   "metadata": {},
   "outputs": [],
   "source": [
    "def exp_two_hot_sym_mat(val, pos):\n",
    "    result = I.copy()\n",
    "    i, j = pos\n",
    "    result[i, i] = np.cosh(val)\n",
    "    result[j, j] = np.cosh(val)\n",
    "    result[i, j] = np.sinh(val)\n",
    "    result[j, i] = np.sinh(val)\n",
    "    return result\n",
    "\n",
    "exp_kinetic_mat = I.copy()\n",
    "\n",
    "for m in (0, 1):\n",
    "    for n in range(0, int(n_site / 4)):\n",
    "        i1 = plaque_sites[m, n]\n",
    "        i2 = neighbor_list[i1, 1]\n",
    "        i3 = neighbor_list[i1, 5]\n",
    "        i4 = neighbor_list[i1, 2]\n",
    "        exp_kinetic_mat = exp_kinetic_mat @ exp_two_hot_sym_mat(dtau, (i1, i2))\n",
    "        exp_kinetic_mat = exp_kinetic_mat @ exp_two_hot_sym_mat(dtau, (i2, i3))\n",
    "        exp_kinetic_mat = exp_kinetic_mat @ exp_two_hot_sym_mat(dtau, (i3, i4))\n",
    "        exp_kinetic_mat = exp_kinetic_mat @ exp_two_hot_sym_mat(dtau, (i4, i1))"
   ]
  },
  {
   "cell_type": "markdown",
   "metadata": {},
   "source": [
    "So checkboard decomposition is correct."
   ]
  },
  {
   "cell_type": "markdown",
   "metadata": {},
   "source": [
    "## The interacting part"
   ]
  },
  {
   "cell_type": "code",
   "execution_count": 8,
   "metadata": {},
   "outputs": [],
   "source": [
    "# Note: here s is the whole configuration, with a imaginary time dimension\n",
    "\n",
    "def exp_int_up_mat(s, n):\n",
    "    return np.diag(np.exp(alpha * s[n]))\n",
    "\n",
    "def exp_int_down_mat(s, n):\n",
    "    return np.diag(np.exp(- alpha * s[n]))\n",
    "\n",
    "# B matrix from imaginary time point n to n+1\n",
    "def b_mat_up_at_tau(s, n):\n",
    "    return exp_int_up_mat(s, n) @ exp_kinetic_mat\n",
    "\n",
    "def b_mat_down_at_tau(s, n):\n",
    "    return exp_int_down_mat(s, n) @ exp_kinetic_mat\n",
    "\n",
    "# B matrix from imaginary time point n1 to n1, n2 not included\n",
    "def b_mat_up(s, n2, n1):\n",
    "    result = I.copy()\n",
    "    for n in range(n1, n2):\n",
    "        result = b_mat_up_at_tau(s, n) @ result\n",
    "    return result\n",
    "\n",
    "def b_mat_down(s, n2, n1):\n",
    "    result = I.copy()\n",
    "    for n in range(n1, n2):\n",
    "        result = b_mat_down_at_tau(s, n) @ result\n",
    "    return result"
   ]
  },
  {
   "cell_type": "markdown",
   "metadata": {},
   "source": [
    "# Green functions"
   ]
  },
  {
   "cell_type": "markdown",
   "metadata": {},
   "source": [
    "Now we head on to verify whether the above codes generates the correct Green functions."
   ]
  },
  {
   "cell_type": "code",
   "execution_count": 9,
   "metadata": {},
   "outputs": [],
   "source": [
    "def b_mat_up_left(s, n):\n",
    "    if n == 0:\n",
    "        return (I.copy(), I.copy(), I.copy())\n",
    "    U, D, V = np.linalg.svd(b_mat_up_at_tau(s, 0))\n",
    "    D = np.diag(D)\n",
    "    for i in range(1, n):\n",
    "        U, D, V_tmp = np.linalg.svd(b_mat_up_at_tau(s, i) @ U @ D)\n",
    "        D = np.diag(D)\n",
    "        V = V_tmp @ V\n",
    "    return (U, D, V)\n",
    "\n",
    "def b_mat_up_right(s, n):\n",
    "    if n == n_imtime:\n",
    "        return (I.copy(), I.copy(), I.copy())\n",
    "    V, D, U = np.linalg.svd(b_mat_up_at_tau(s, n_imtime - 1))\n",
    "    D = np.diag(D)\n",
    "    for i in range(n_imtime - 2, n - 1, -1):\n",
    "        V_tmp, D, U = np.linalg.svd(D @ U @ b_mat_up_at_tau(s, i))\n",
    "        D = np.diag(D)\n",
    "        V = V @ V_tmp\n",
    "    return (V, D, U)\n",
    "\n",
    "def b_mat_down_left(s, n):\n",
    "    if n == 0:\n",
    "        return (I.copy(), I.copy(), I.copy())\n",
    "    U, D, V = np.linalg.svd(b_mat_down_at_tau(s, 0))\n",
    "    D = np.diag(D)\n",
    "    for i in range(1, n):\n",
    "        U, D, V_tmp = np.linalg.svd(b_mat_down_at_tau(s, i) @ U @ D)\n",
    "        D = np.diag(D)\n",
    "        V = V_tmp @ V\n",
    "    return (U, D, V)\n",
    "\n",
    "def b_mat_down_right(s, n):\n",
    "    if n == n_imtime:\n",
    "        return (I.copy(), I.copy(), I.copy())\n",
    "    V, D, U = np.linalg.svd(b_mat_down_at_tau(s, n_imtime - 1))\n",
    "    D = np.diag(D)\n",
    "    for i in range(n_imtime - 2, n - 1, -1):\n",
    "        V_tmp, D, U = np.linalg.svd(D @ U @ b_mat_down_at_tau(s, i))\n",
    "        D = np.diag(D)\n",
    "        V = V @ V_tmp\n",
    "    return (V, D, U)"
   ]
  },
  {
   "cell_type": "markdown",
   "metadata": {},
   "source": [
    "It can be observed that the green function calculated with numerical stablization is slightly better than the naive algorithm."
   ]
  },
  {
   "cell_type": "markdown",
   "metadata": {},
   "source": [
    "So the kinetic energy is correct after numerical stablization.\n",
    "If `datu` is set as 0.01, even the kinetic energy after the numerical stablization is not correct."
   ]
  },
  {
   "cell_type": "markdown",
   "metadata": {},
   "source": [
    "It can easily be observed that the relative error grows exponentially as the propagating time gets larger."
   ]
  },
  {
   "cell_type": "markdown",
   "metadata": {},
   "source": [
    "Now we go on to calculate numerically stabilized Green functions."
   ]
  },
  {
   "cell_type": "code",
   "execution_count": 10,
   "metadata": {},
   "outputs": [],
   "source": [
    "def green_function_up_stable(s, n):\n",
    "    U_L, D_L, V_L = b_mat_up_left(s, n)\n",
    "    V_R, D_R, U_R = b_mat_up_right(s, n)\n",
    "    U, D, V = np.linalg.svd(np.linalg.inv(U_R @ U_L) + D_L @ (V_L @ V_R) @ D_R)\n",
    "    return np.linalg.inv(V @ U_R) @ np.diag(1 / D) @ np.linalg.inv(U_L @ U)\n",
    "\n",
    "def green_function_down_stable(s, n):\n",
    "    U_L, D_L, V_L = b_mat_down_left(s, n)\n",
    "    V_R, D_R, U_R = b_mat_down_right(s, n)\n",
    "    U, D, V = np.linalg.svd(np.linalg.inv(U_R @ U_L) + D_L @ (V_L @ V_R) @ D_R)\n",
    "    return np.linalg.inv(V @ U_R) @ np.diag(1 / D) @ np.linalg.inv(U_L @ U)"
   ]
  },
  {
   "cell_type": "code",
   "execution_count": 11,
   "metadata": {},
   "outputs": [],
   "source": [
    "def green_function_up_naive(s, n):\n",
    "    return np.linalg.inv(I + b_mat_up(s, n, 0) @ b_mat_up(s, n_imtime, n))\n",
    "\n",
    "def green_function_down_naive(s, n):\n",
    "    return np.linalg.inv(I + b_mat_down(s, n, 0) @ b_mat_down(s, n_imtime, n))"
   ]
  },
  {
   "cell_type": "markdown",
   "metadata": {},
   "source": [
    "# Updating"
   ]
  },
  {
   "cell_type": "markdown",
   "metadata": {},
   "source": [
    "## Accept rate"
   ]
  },
  {
   "cell_type": "markdown",
   "metadata": {},
   "source": [
    "Now we consider how to update the system. We first try to rewrite the accept rate in terms of the Green functions."
   ]
  },
  {
   "cell_type": "code",
   "execution_count": 12,
   "metadata": {},
   "outputs": [],
   "source": [
    "def accept_rate_up_naive(s, n, i):\n",
    "    s_flipped = s.copy()\n",
    "    s_flipped[n, i] *= -1\n",
    "    return np.linalg.det(I + b_mat_up(s_flipped, n_imtime, 0)) / np.linalg.det(I + b_mat_up(s, n_imtime, 0))\n",
    "\n",
    "def accept_rate_down_naive(s, n, i):\n",
    "    s_flipped = s.copy()\n",
    "    s_flipped[n, i] *= -1\n",
    "    return np.linalg.det(I + b_mat_down(s_flipped, n_imtime, 0)) / np.linalg.det(I + b_mat_down(s, n_imtime, 0))\n"
   ]
  },
  {
   "cell_type": "code",
   "execution_count": 13,
   "metadata": {},
   "outputs": [],
   "source": [
    "def delta_up(s, n, i):\n",
    "    return np.exp(- 2 * alpha * s[n, i]) - 1\n",
    "\n",
    "def delta_down(s, n, i):\n",
    "    return np.exp(2 * alpha * s[n, i]) - 1\n",
    "\n",
    "def accept_ratio_up(s, n, i, G):\n",
    "    return 1.0 + delta_up(s, n, i) * (1.0 - G[i, i])\n",
    "\n",
    "def accept_ratio_down(s, n, i, G):\n",
    "    return 1.0 + delta_down(s, n, i) * (1.0 - G[i, i])"
   ]
  },
  {
   "cell_type": "code",
   "execution_count": null,
   "metadata": {},
   "outputs": [],
   "source": []
  },
  {
   "cell_type": "markdown",
   "metadata": {},
   "source": [
    "## Propagating"
   ]
  },
  {
   "cell_type": "markdown",
   "metadata": {},
   "source": [
    "## Flipping"
   ]
  },
  {
   "cell_type": "markdown",
   "metadata": {},
   "source": [
    "We move on to introduce flipping. We try to reuse code from the last failed attempt."
   ]
  },
  {
   "cell_type": "code",
   "execution_count": 14,
   "metadata": {},
   "outputs": [],
   "source": [
    " # Codes from the last failed attempt.\n",
    "\n",
    " def delta_up(s, n, i):\n",
    "     return np.exp(- 2 * alpha * s[n, i]) - 1\n",
    "\n",
    " def delta_down(s, n, i):\n",
    "     return np.exp(2 * alpha * s[n, i]) - 1\n",
    "\n",
    "def green_function_up_update_original(s, n, i, G):\n",
    "    delta_pos = np.zeros((n_site, n_site))\n",
    "    delta_pos[i, i] = 1\n",
    "    return G - G @ (delta_up(s, n, i) * delta_pos) @ (I - G) / accept_ratio_up(s, n, i, G)\n",
    "\n",
    "def green_function_down_update_original(s, n, i, G):\n",
    "    delta_pos = np.zeros((n_site, n_site))\n",
    "    delta_pos[i, i] = 1\n",
    "    return G - G @ (delta_down(s, n, i) * delta_pos) @ (I - G) / accept_ratio_down(s, n, i, G)\n",
    "\n",
    "def green_function_up_update(s, n, i, G):\n",
    "    a = G[:, i].reshape((n_site, 1))\n",
    "    b =(I - G)[i, :].reshape((1, n_site))\n",
    "    return G - delta_up(s, n, i) * a @ b / accept_ratio_up(s, n, i, G)\n",
    "\n",
    "def green_function_down_update(s, n, i, G):\n",
    "    a = G[:, i].reshape((n_site, 1))\n",
    "    b =(I - G)[i, :].reshape((1, n_site))\n",
    "    return G - delta_down(s, n, i) * a @ b / accept_ratio_down(s, n, i, G)"
   ]
  },
  {
   "cell_type": "code",
   "execution_count": 15,
   "metadata": {},
   "outputs": [],
   "source": [
    "def green_function_up_update_simp(s, n, i, G):\n",
    "    a = G[:, i].reshape((n_site, 1))\n",
    "    b =(I - G)[i, :].reshape((1, n_site))\n",
    "    return G - delta_up(s, n, i) * a @ b / accept_ratio_up(s, n, i, G)\n",
    "\n",
    "def green_function_down_update_simp(s, n, i, G):\n",
    "    a = G[:, i].reshape((n_site, 1))\n",
    "    b =(I - G)[i, :].reshape((1, n_site))\n",
    "    return G - delta_down(s, n, i) * a @ b / accept_ratio_down(s, n, i, G)"
   ]
  },
  {
   "cell_type": "code",
   "execution_count": 16,
   "metadata": {},
   "outputs": [
    {
     "name": "stdout",
     "output_type": "stream",
     "text": [
      " Time 399 is finished. "
     ]
    }
   ],
   "source": [
    "green_function_up_history = []\n",
    "green_function_down_history = []\n",
    "\n",
    "current_green_function_up = green_function_up_stable(s, 0)\n",
    "current_green_function_down = green_function_down_stable(s, 0)\n",
    "\n",
    "for count in range(0, n_sweep):\n",
    "\n",
    "    print('\\r', f'Time {str(count)} is finished. ', end='')\n",
    "    for time in range(0, n_imtime):\n",
    "\n",
    "        for i in range(0, n_site):\n",
    "            accept_rate_up = accept_ratio_up(s, (time - 1) % n_imtime, i, current_green_function_up)\n",
    "            accept_rate_down = accept_ratio_down(s, (time - 1) % n_imtime, i, current_green_function_down)\n",
    "            accept_rate = accept_rate_up * accept_rate_down\n",
    "            if uniform(0, 1) < accept_rate:\n",
    "                current_green_function_up = green_function_up_update(s, (time - 1) % n_imtime, i, current_green_function_up)\n",
    "                current_green_function_down = green_function_down_update(s, (time - 1) % n_imtime, i, current_green_function_down)\n",
    "                s[(time - 1) % n_imtime, i] *= -1\n",
    "\n",
    "        if (time + 1) % n_wrap == 0:\n",
    "            current_green_function_up = green_function_up_stable(s, time + 1)\n",
    "            current_green_function_down = green_function_down_stable(s, time + 1)\n",
    "        else:\n",
    "            current_green_function_up = b_mat_up_at_tau(s, time) @ current_green_function_up @ np.linalg.inv(b_mat_up_at_tau(s, time))\n",
    "            current_green_function_down = b_mat_down_at_tau(s, time) @current_green_function_down @ np.linalg.inv(b_mat_down_at_tau(s, time))\n",
    "        \n",
    "\n",
    "    for time in range(n_imtime, 0, -1):\n",
    "\n",
    "        for i in range(0, n_site):\n",
    "            accept_rate_up = accept_ratio_up(s, (time - 1) % n_imtime, i, current_green_function_up)\n",
    "            accept_rate_down = accept_ratio_down(s, (time - 1) % n_imtime, i, current_green_function_down)\n",
    "            accept_rate = accept_rate_up * accept_rate_down\n",
    "            if uniform(0, 1) < accept_rate:\n",
    "                current_green_function_up = green_function_up_update(s, (time - 1) % n_imtime, i, current_green_function_up)\n",
    "                current_green_function_down = green_function_down_update(s, (time - 1) % n_imtime, i, current_green_function_down)\n",
    "                s[(time - 1) % n_imtime, i] *= -1\n",
    "\n",
    "        if (n_imtime - time) % n_wrap == 0:\n",
    "            current_green_function_up = green_function_up_stable(s, time - 1)\n",
    "            current_green_function_down = green_function_down_stable(s, time - 1)\n",
    "        else:\n",
    "            current_green_function_up = np.linalg.inv(b_mat_up_at_tau(s, time - 1)) @ current_green_function_up @ b_mat_up_at_tau(s, time - 1)\n",
    "            current_green_function_down = np.linalg.inv(b_mat_down_at_tau(s, time - 1)) @ current_green_function_down @ b_mat_down_at_tau(s, time - 1)\n",
    "\n",
    "    green_function_up_history.append(current_green_function_up)\n",
    "    green_function_down_history.append(current_green_function_down)\n"
   ]
  },
  {
   "cell_type": "code",
   "execution_count": 17,
   "metadata": {},
   "outputs": [],
   "source": [
    "kinetic_energy_history = []\n",
    "for i in range(0, n_sweep):\n",
    "    current_green_function_up = green_function_up_history[i]\n",
    "    current_green_function_down = green_function_down_history[i]\n",
    "    kinetic_energy_history.append((np.trace((I - current_green_function_up) @ T) + np.trace((I - current_green_function_down) @ T)) / n_site)\n",
    "\n",
    "kinetic_energy_history = np.array(kinetic_energy_history)"
   ]
  },
  {
   "cell_type": "code",
   "execution_count": 18,
   "metadata": {},
   "outputs": [
    {
     "data": {
      "text/plain": [
       "-0.8465843170942441"
      ]
     },
     "execution_count": 18,
     "metadata": {},
     "output_type": "execute_result"
    }
   ],
   "source": [
    "np.average(kinetic_energy_history)"
   ]
  },
  {
   "cell_type": "code",
   "execution_count": 19,
   "metadata": {},
   "outputs": [
    {
     "data": {
      "text/plain": [
       "0.3746711011165924"
      ]
     },
     "execution_count": 19,
     "metadata": {},
     "output_type": "execute_result"
    }
   ],
   "source": [
    "np.std(kinetic_energy_history)"
   ]
  },
  {
   "cell_type": "markdown",
   "metadata": {},
   "source": [
    "# Benchmark for the Julia version"
   ]
  },
  {
   "cell_type": "markdown",
   "metadata": {},
   "source": [
    "Below are some intermediate results that may provide benchmarks for the Julia version under development."
   ]
  },
  {
   "cell_type": "code",
   "execution_count": 108,
   "metadata": {},
   "outputs": [],
   "source": [
    "s = abs(s)\n",
    "s[0, 1] = -1\n",
    "s[9, :] = -1"
   ]
  },
  {
   "cell_type": "code",
   "execution_count": 109,
   "metadata": {},
   "outputs": [
    {
     "ename": "TypeError",
     "evalue": "accept_ratio_up() missing 1 required positional argument: 'G'",
     "output_type": "error",
     "traceback": [
      "\u001b[1;31m---------------------------------------------------------------------------\u001b[0m",
      "\u001b[1;31mTypeError\u001b[0m                                 Traceback (most recent call last)",
      "\u001b[1;32m<ipython-input-109-e61d2cddface>\u001b[0m in \u001b[0;36m<module>\u001b[1;34m\u001b[0m\n\u001b[1;32m----> 1\u001b[1;33m \u001b[0maccept_ratio_up\u001b[0m\u001b[1;33m(\u001b[0m\u001b[0ms\u001b[0m\u001b[1;33m,\u001b[0m \u001b[1;36m1\u001b[0m\u001b[1;33m,\u001b[0m \u001b[1;36m1\u001b[0m\u001b[1;33m)\u001b[0m\u001b[1;33m\u001b[0m\u001b[1;33m\u001b[0m\u001b[0m\n\u001b[0m",
      "\u001b[1;31mTypeError\u001b[0m: accept_ratio_up() missing 1 required positional argument: 'G'"
     ]
    }
   ],
   "source": [
    "accept_ratio_up(s, 1, 1)"
   ]
  },
  {
   "cell_type": "code",
   "execution_count": 106,
   "metadata": {},
   "outputs": [],
   "source": [
    "error_history_1 = []\n",
    "error_history_2 = []\n",
    "current_green_function_up = green_function_up_stable(s, 0)\n",
    "current_green_function_down = green_function_down_stable(s, 0)\n",
    "\n",
    "for i in range(0, n_site):\n",
    "    current_green_function_up = green_function_up_update(s, n_imtime - 1, i, current_green_function_up)\n",
    "    current_green_function_down = green_function_down_update(s, n_imtime - 1, i, current_green_function_down)\n",
    "\n",
    "    s[n_imtime-1, i] *= -1\n",
    "    error_history_1.append(mat_div_relative(current_green_function_up, green_function_up_stable(s, 0)))\n",
    "    error_history_2.append(mat_div_relative(current_green_function_down, green_function_down_stable(s, 0)))\n",
    "    "
   ]
  },
  {
   "cell_type": "code",
   "execution_count": 107,
   "metadata": {},
   "outputs": [
    {
     "data": {
      "text/plain": [
       "[<matplotlib.lines.Line2D at 0x1f774da0520>]"
      ]
     },
     "execution_count": 107,
     "metadata": {},
     "output_type": "execute_result"
    },
    {
     "data": {
      "image/png": "[encoded data removed]",
      "image/svg+xml": "<?xml version=\"1.0\" encoding=\"utf-8\" standalone=\"no\"?>\r\n<!DOCTYPE svg PUBLIC \"-//W3C//DTD SVG 1.1//EN\"\r\n  \"http://www.w3.org/Graphics/SVG/1.1/DTD/svg11.dtd\">\r\n<!-- Created with matplotlib (https://matplotlib.org/) -->\r\n<svg height=\"251.740968pt\" version=\"1.1\" viewBox=\"0 0 377.304688 251.740968\" width=\"377.304688pt\" xmlns=\"http://www.w3.org/2000/svg\" xmlns:xlink=\"http://www.w3.org/1999/xlink\">\r\n <defs>\r\n  <style type=\"text/css\">\r\n*{stroke-linecap:butt;stroke-linejoin:round;}\r\n  </style>\r\n </defs>\r\n <g id=\"figure_1\">\r\n  <g id=\"patch_1\">\r\n   <path d=\"M 0 251.740968 \r\nL 377.304688 251.740968 \r\nL 377.304688 0 \r\nL 0 0 \r\nz\r\n\" style=\"fill:none;\"/>\r\n  </g>\r\n  <g id=\"axes_1\">\r\n   <g id=\"patch_2\">\r\n    <path d=\"M 35.304688 227.862843 \r\nL 370.104688 227.862843 \r\nL 370.104688 10.422843 \r\nL 35.304688 10.422843 \r\nz\r\n\" style=\"fill:#ffffff;\"/>\r\n   </g>\r\n   <g id=\"matplotlib.axis_1\">\r\n    <g id=\"xtick_1\">\r\n     <g id=\"line2d_1\">\r\n      <defs>\r\n       <path d=\"M 0 0 \r\nL 0 3.5 \r\n\" id=\"m5a113051aa\" style=\"stroke:#000000;stroke-width:0.8;\"/>\r\n      </defs>\r\n      <g>\r\n       <use style=\"stroke:#000000;stroke-width:0.8;\" x=\"50.522869\" xlink:href=\"#m5a113051aa\" y=\"227.862843\"/>\r\n      </g>\r\n     </g>\r\n     <g id=\"text_1\">\r\n      <!-- 0 -->\r\n      <defs>\r\n       <path d=\"M 31.78125 66.40625 \r\nQ 24.171875 66.40625 20.328125 58.90625 \r\nQ 16.5 51.421875 16.5 36.375 \r\nQ 16.5 21.390625 20.328125 13.890625 \r\nQ 24.171875 6.390625 31.78125 6.390625 \r\nQ 39.453125 6.390625 43.28125 13.890625 \r\nQ 47.125 21.390625 47.125 36.375 \r\nQ 47.125 51.421875 43.28125 58.90625 \r\nQ 39.453125 66.40625 31.78125 66.40625 \r\nz\r\nM 31.78125 74.21875 \r\nQ 44.046875 74.21875 50.515625 64.515625 \r\nQ 56.984375 54.828125 56.984375 36.375 \r\nQ 56.984375 17.96875 50.515625 8.265625 \r\nQ 44.046875 -1.421875 31.78125 -1.421875 \r\nQ 19.53125 -1.421875 13.0625 8.265625 \r\nQ 6.59375 17.96875 6.59375 36.375 \r\nQ 6.59375 54.828125 13.0625 64.515625 \r\nQ 19.53125 74.21875 31.78125 74.21875 \r\nz\r\n\" id=\"DejaVuSans-48\"/>\r\n      </defs>\r\n      <g transform=\"translate(47.341619 242.461281)scale(0.1 -0.1)\">\r\n       <use xlink:href=\"#DejaVuSans-48\"/>\r\n      </g>\r\n     </g>\r\n    </g>\r\n    <g id=\"xtick_2\">\r\n     <g id=\"line2d_2\">\r\n      <g>\r\n       <use style=\"stroke:#000000;stroke-width:0.8;\" x=\"91.104688\" xlink:href=\"#m5a113051aa\" y=\"227.862843\"/>\r\n      </g>\r\n     </g>\r\n     <g id=\"text_2\">\r\n      <!-- 2 -->\r\n      <defs>\r\n       <path d=\"M 19.1875 8.296875 \r\nL 53.609375 8.296875 \r\nL 53.609375 0 \r\nL 7.328125 0 \r\nL 7.328125 8.296875 \r\nQ 12.9375 14.109375 22.625 23.890625 \r\nQ 32.328125 33.6875 34.8125 36.53125 \r\nQ 39.546875 41.84375 41.421875 45.53125 \r\nQ 43.3125 49.21875 43.3125 52.78125 \r\nQ 43.3125 58.59375 39.234375 62.25 \r\nQ 35.15625 65.921875 28.609375 65.921875 \r\nQ 23.96875 65.921875 18.8125 64.3125 \r\nQ 13.671875 62.703125 7.8125 59.421875 \r\nL 7.8125 69.390625 \r\nQ 13.765625 71.78125 18.9375 73 \r\nQ 24.125 74.21875 28.421875 74.21875 \r\nQ 39.75 74.21875 46.484375 68.546875 \r\nQ 53.21875 62.890625 53.21875 53.421875 \r\nQ 53.21875 48.921875 51.53125 44.890625 \r\nQ 49.859375 40.875 45.40625 35.40625 \r\nQ 44.1875 33.984375 37.640625 27.21875 \r\nQ 31.109375 20.453125 19.1875 8.296875 \r\nz\r\n\" id=\"DejaVuSans-50\"/>\r\n      </defs>\r\n      <g transform=\"translate(87.923438 242.461281)scale(0.1 -0.1)\">\r\n       <use xlink:href=\"#DejaVuSans-50\"/>\r\n      </g>\r\n     </g>\r\n    </g>\r\n    <g id=\"xtick_3\">\r\n     <g id=\"line2d_3\">\r\n      <g>\r\n       <use style=\"stroke:#000000;stroke-width:0.8;\" x=\"131.686506\" xlink:href=\"#m5a113051aa\" y=\"227.862843\"/>\r\n      </g>\r\n     </g>\r\n     <g id=\"text_3\">\r\n      <!-- 4 -->\r\n      <defs>\r\n       <path d=\"M 37.796875 64.3125 \r\nL 12.890625 25.390625 \r\nL 37.796875 25.390625 \r\nz\r\nM 35.203125 72.90625 \r\nL 47.609375 72.90625 \r\nL 47.609375 25.390625 \r\nL 58.015625 25.390625 \r\nL 58.015625 17.1875 \r\nL 47.609375 17.1875 \r\nL 47.609375 0 \r\nL 37.796875 0 \r\nL 37.796875 17.1875 \r\nL 4.890625 17.1875 \r\nL 4.890625 26.703125 \r\nz\r\n\" id=\"DejaVuSans-52\"/>\r\n      </defs>\r\n      <g transform=\"translate(128.505256 242.461281)scale(0.1 -0.1)\">\r\n       <use xlink:href=\"#DejaVuSans-52\"/>\r\n      </g>\r\n     </g>\r\n    </g>\r\n    <g id=\"xtick_4\">\r\n     <g id=\"line2d_4\">\r\n      <g>\r\n       <use style=\"stroke:#000000;stroke-width:0.8;\" x=\"172.268324\" xlink:href=\"#m5a113051aa\" y=\"227.862843\"/>\r\n      </g>\r\n     </g>\r\n     <g id=\"text_4\">\r\n      <!-- 6 -->\r\n      <defs>\r\n       <path d=\"M 33.015625 40.375 \r\nQ 26.375 40.375 22.484375 35.828125 \r\nQ 18.609375 31.296875 18.609375 23.390625 \r\nQ 18.609375 15.53125 22.484375 10.953125 \r\nQ 26.375 6.390625 33.015625 6.390625 \r\nQ 39.65625 6.390625 43.53125 10.953125 \r\nQ 47.40625 15.53125 47.40625 23.390625 \r\nQ 47.40625 31.296875 43.53125 35.828125 \r\nQ 39.65625 40.375 33.015625 40.375 \r\nz\r\nM 52.59375 71.296875 \r\nL 52.59375 62.3125 \r\nQ 48.875 64.0625 45.09375 64.984375 \r\nQ 41.3125 65.921875 37.59375 65.921875 \r\nQ 27.828125 65.921875 22.671875 59.328125 \r\nQ 17.53125 52.734375 16.796875 39.40625 \r\nQ 19.671875 43.65625 24.015625 45.921875 \r\nQ 28.375 48.1875 33.59375 48.1875 \r\nQ 44.578125 48.1875 50.953125 41.515625 \r\nQ 57.328125 34.859375 57.328125 23.390625 \r\nQ 57.328125 12.15625 50.6875 5.359375 \r\nQ 44.046875 -1.421875 33.015625 -1.421875 \r\nQ 20.359375 -1.421875 13.671875 8.265625 \r\nQ 6.984375 17.96875 6.984375 36.375 \r\nQ 6.984375 53.65625 15.1875 63.9375 \r\nQ 23.390625 74.21875 37.203125 74.21875 \r\nQ 40.921875 74.21875 44.703125 73.484375 \r\nQ 48.484375 72.75 52.59375 71.296875 \r\nz\r\n\" id=\"DejaVuSans-54\"/>\r\n      </defs>\r\n      <g transform=\"translate(169.087074 242.461281)scale(0.1 -0.1)\">\r\n       <use xlink:href=\"#DejaVuSans-54\"/>\r\n      </g>\r\n     </g>\r\n    </g>\r\n    <g id=\"xtick_5\">\r\n     <g id=\"line2d_5\">\r\n      <g>\r\n       <use style=\"stroke:#000000;stroke-width:0.8;\" x=\"212.850142\" xlink:href=\"#m5a113051aa\" y=\"227.862843\"/>\r\n      </g>\r\n     </g>\r\n     <g id=\"text_5\">\r\n      <!-- 8 -->\r\n      <defs>\r\n       <path d=\"M 31.78125 34.625 \r\nQ 24.75 34.625 20.71875 30.859375 \r\nQ 16.703125 27.09375 16.703125 20.515625 \r\nQ 16.703125 13.921875 20.71875 10.15625 \r\nQ 24.75 6.390625 31.78125 6.390625 \r\nQ 38.8125 6.390625 42.859375 10.171875 \r\nQ 46.921875 13.96875 46.921875 20.515625 \r\nQ 46.921875 27.09375 42.890625 30.859375 \r\nQ 38.875 34.625 31.78125 34.625 \r\nz\r\nM 21.921875 38.8125 \r\nQ 15.578125 40.375 12.03125 44.71875 \r\nQ 8.5 49.078125 8.5 55.328125 \r\nQ 8.5 64.0625 14.71875 69.140625 \r\nQ 20.953125 74.21875 31.78125 74.21875 \r\nQ 42.671875 74.21875 48.875 69.140625 \r\nQ 55.078125 64.0625 55.078125 55.328125 \r\nQ 55.078125 49.078125 51.53125 44.71875 \r\nQ 48 40.375 41.703125 38.8125 \r\nQ 48.828125 37.15625 52.796875 32.3125 \r\nQ 56.78125 27.484375 56.78125 20.515625 \r\nQ 56.78125 9.90625 50.3125 4.234375 \r\nQ 43.84375 -1.421875 31.78125 -1.421875 \r\nQ 19.734375 -1.421875 13.25 4.234375 \r\nQ 6.78125 9.90625 6.78125 20.515625 \r\nQ 6.78125 27.484375 10.78125 32.3125 \r\nQ 14.796875 37.15625 21.921875 38.8125 \r\nz\r\nM 18.3125 54.390625 \r\nQ 18.3125 48.734375 21.84375 45.5625 \r\nQ 25.390625 42.390625 31.78125 42.390625 \r\nQ 38.140625 42.390625 41.71875 45.5625 \r\nQ 45.3125 48.734375 45.3125 54.390625 \r\nQ 45.3125 60.0625 41.71875 63.234375 \r\nQ 38.140625 66.40625 31.78125 66.40625 \r\nQ 25.390625 66.40625 21.84375 63.234375 \r\nQ 18.3125 60.0625 18.3125 54.390625 \r\nz\r\n\" id=\"DejaVuSans-56\"/>\r\n      </defs>\r\n      <g transform=\"translate(209.668892 242.461281)scale(0.1 -0.1)\">\r\n       <use xlink:href=\"#DejaVuSans-56\"/>\r\n      </g>\r\n     </g>\r\n    </g>\r\n    <g id=\"xtick_6\">\r\n     <g id=\"line2d_6\">\r\n      <g>\r\n       <use style=\"stroke:#000000;stroke-width:0.8;\" x=\"253.43196\" xlink:href=\"#m5a113051aa\" y=\"227.862843\"/>\r\n      </g>\r\n     </g>\r\n     <g id=\"text_6\">\r\n      <!-- 10 -->\r\n      <defs>\r\n       <path d=\"M 12.40625 8.296875 \r\nL 28.515625 8.296875 \r\nL 28.515625 63.921875 \r\nL 10.984375 60.40625 \r\nL 10.984375 69.390625 \r\nL 28.421875 72.90625 \r\nL 38.28125 72.90625 \r\nL 38.28125 8.296875 \r\nL 54.390625 8.296875 \r\nL 54.390625 0 \r\nL 12.40625 0 \r\nz\r\n\" id=\"DejaVuSans-49\"/>\r\n      </defs>\r\n      <g transform=\"translate(247.06946 242.461281)scale(0.1 -0.1)\">\r\n       <use xlink:href=\"#DejaVuSans-49\"/>\r\n       <use x=\"63.623047\" xlink:href=\"#DejaVuSans-48\"/>\r\n      </g>\r\n     </g>\r\n    </g>\r\n    <g id=\"xtick_7\">\r\n     <g id=\"line2d_7\">\r\n      <g>\r\n       <use style=\"stroke:#000000;stroke-width:0.8;\" x=\"294.013778\" xlink:href=\"#m5a113051aa\" y=\"227.862843\"/>\r\n      </g>\r\n     </g>\r\n     <g id=\"text_7\">\r\n      <!-- 12 -->\r\n      <g transform=\"translate(287.651278 242.461281)scale(0.1 -0.1)\">\r\n       <use xlink:href=\"#DejaVuSans-49\"/>\r\n       <use x=\"63.623047\" xlink:href=\"#DejaVuSans-50\"/>\r\n      </g>\r\n     </g>\r\n    </g>\r\n    <g id=\"xtick_8\">\r\n     <g id=\"line2d_8\">\r\n      <g>\r\n       <use style=\"stroke:#000000;stroke-width:0.8;\" x=\"334.595597\" xlink:href=\"#m5a113051aa\" y=\"227.862843\"/>\r\n      </g>\r\n     </g>\r\n     <g id=\"text_8\">\r\n      <!-- 14 -->\r\n      <g transform=\"translate(328.233097 242.461281)scale(0.1 -0.1)\">\r\n       <use xlink:href=\"#DejaVuSans-49\"/>\r\n       <use x=\"63.623047\" xlink:href=\"#DejaVuSans-52\"/>\r\n      </g>\r\n     </g>\r\n    </g>\r\n   </g>\r\n   <g id=\"matplotlib.axis_2\">\r\n    <g id=\"ytick_1\">\r\n     <g id=\"line2d_9\">\r\n      <defs>\r\n       <path d=\"M 0 0 \r\nL -3.5 0 \r\n\" id=\"m67a8161bf3\" style=\"stroke:#000000;stroke-width:0.8;\"/>\r\n      </defs>\r\n      <g>\r\n       <use style=\"stroke:#000000;stroke-width:0.8;\" x=\"35.304688\" xlink:href=\"#m67a8161bf3\" y=\"211.150999\"/>\r\n      </g>\r\n     </g>\r\n     <g id=\"text_9\">\r\n      <!-- −65 -->\r\n      <defs>\r\n       <path d=\"M 10.59375 35.5 \r\nL 73.1875 35.5 \r\nL 73.1875 27.203125 \r\nL 10.59375 27.203125 \r\nz\r\n\" id=\"DejaVuSans-8722\"/>\r\n       <path d=\"M 10.796875 72.90625 \r\nL 49.515625 72.90625 \r\nL 49.515625 64.59375 \r\nL 19.828125 64.59375 \r\nL 19.828125 46.734375 \r\nQ 21.96875 47.46875 24.109375 47.828125 \r\nQ 26.265625 48.1875 28.421875 48.1875 \r\nQ 40.625 48.1875 47.75 41.5 \r\nQ 54.890625 34.8125 54.890625 23.390625 \r\nQ 54.890625 11.625 47.5625 5.09375 \r\nQ 40.234375 -1.421875 26.90625 -1.421875 \r\nQ 22.3125 -1.421875 17.546875 -0.640625 \r\nQ 12.796875 0.140625 7.71875 1.703125 \r\nL 7.71875 11.625 \r\nQ 12.109375 9.234375 16.796875 8.0625 \r\nQ 21.484375 6.890625 26.703125 6.890625 \r\nQ 35.15625 6.890625 40.078125 11.328125 \r\nQ 45.015625 15.765625 45.015625 23.390625 \r\nQ 45.015625 31 40.078125 35.4375 \r\nQ 35.15625 39.890625 26.703125 39.890625 \r\nQ 22.75 39.890625 18.8125 39.015625 \r\nQ 14.890625 38.140625 10.796875 36.28125 \r\nz\r\n\" id=\"DejaVuSans-53\"/>\r\n      </defs>\r\n      <g transform=\"translate(7.2 214.950218)scale(0.1 -0.1)\">\r\n       <use xlink:href=\"#DejaVuSans-8722\"/>\r\n       <use x=\"83.789062\" xlink:href=\"#DejaVuSans-54\"/>\r\n       <use x=\"147.412109\" xlink:href=\"#DejaVuSans-53\"/>\r\n      </g>\r\n     </g>\r\n    </g>\r\n    <g id=\"ytick_2\">\r\n     <g id=\"line2d_10\">\r\n      <g>\r\n       <use style=\"stroke:#000000;stroke-width:0.8;\" x=\"35.304688\" xlink:href=\"#m67a8161bf3\" y=\"177.792369\"/>\r\n      </g>\r\n     </g>\r\n     <g id=\"text_10\">\r\n      <!-- −60 -->\r\n      <g transform=\"translate(7.2 181.591588)scale(0.1 -0.1)\">\r\n       <use xlink:href=\"#DejaVuSans-8722\"/>\r\n       <use x=\"83.789062\" xlink:href=\"#DejaVuSans-54\"/>\r\n       <use x=\"147.412109\" xlink:href=\"#DejaVuSans-48\"/>\r\n      </g>\r\n     </g>\r\n    </g>\r\n    <g id=\"ytick_3\">\r\n     <g id=\"line2d_11\">\r\n      <g>\r\n       <use style=\"stroke:#000000;stroke-width:0.8;\" x=\"35.304688\" xlink:href=\"#m67a8161bf3\" y=\"144.433739\"/>\r\n      </g>\r\n     </g>\r\n     <g id=\"text_11\">\r\n      <!-- −55 -->\r\n      <g transform=\"translate(7.2 148.232958)scale(0.1 -0.1)\">\r\n       <use xlink:href=\"#DejaVuSans-8722\"/>\r\n       <use x=\"83.789062\" xlink:href=\"#DejaVuSans-53\"/>\r\n       <use x=\"147.412109\" xlink:href=\"#DejaVuSans-53\"/>\r\n      </g>\r\n     </g>\r\n    </g>\r\n    <g id=\"ytick_4\">\r\n     <g id=\"line2d_12\">\r\n      <g>\r\n       <use style=\"stroke:#000000;stroke-width:0.8;\" x=\"35.304688\" xlink:href=\"#m67a8161bf3\" y=\"111.075109\"/>\r\n      </g>\r\n     </g>\r\n     <g id=\"text_12\">\r\n      <!-- −50 -->\r\n      <g transform=\"translate(7.2 114.874328)scale(0.1 -0.1)\">\r\n       <use xlink:href=\"#DejaVuSans-8722\"/>\r\n       <use x=\"83.789062\" xlink:href=\"#DejaVuSans-53\"/>\r\n       <use x=\"147.412109\" xlink:href=\"#DejaVuSans-48\"/>\r\n      </g>\r\n     </g>\r\n    </g>\r\n    <g id=\"ytick_5\">\r\n     <g id=\"line2d_13\">\r\n      <g>\r\n       <use style=\"stroke:#000000;stroke-width:0.8;\" x=\"35.304688\" xlink:href=\"#m67a8161bf3\" y=\"77.716479\"/>\r\n      </g>\r\n     </g>\r\n     <g id=\"text_13\">\r\n      <!-- −45 -->\r\n      <g transform=\"translate(7.2 81.515698)scale(0.1 -0.1)\">\r\n       <use xlink:href=\"#DejaVuSans-8722\"/>\r\n       <use x=\"83.789062\" xlink:href=\"#DejaVuSans-52\"/>\r\n       <use x=\"147.412109\" xlink:href=\"#DejaVuSans-53\"/>\r\n      </g>\r\n     </g>\r\n    </g>\r\n    <g id=\"ytick_6\">\r\n     <g id=\"line2d_14\">\r\n      <g>\r\n       <use style=\"stroke:#000000;stroke-width:0.8;\" x=\"35.304688\" xlink:href=\"#m67a8161bf3\" y=\"44.357849\"/>\r\n      </g>\r\n     </g>\r\n     <g id=\"text_14\">\r\n      <!-- −40 -->\r\n      <g transform=\"translate(7.2 48.157068)scale(0.1 -0.1)\">\r\n       <use xlink:href=\"#DejaVuSans-8722\"/>\r\n       <use x=\"83.789062\" xlink:href=\"#DejaVuSans-52\"/>\r\n       <use x=\"147.412109\" xlink:href=\"#DejaVuSans-48\"/>\r\n      </g>\r\n     </g>\r\n    </g>\r\n    <g id=\"ytick_7\">\r\n     <g id=\"line2d_15\">\r\n      <g>\r\n       <use style=\"stroke:#000000;stroke-width:0.8;\" x=\"35.304688\" xlink:href=\"#m67a8161bf3\" y=\"10.999219\"/>\r\n      </g>\r\n     </g>\r\n     <g id=\"text_15\">\r\n      <!-- −35 -->\r\n      <defs>\r\n       <path d=\"M 40.578125 39.3125 \r\nQ 47.65625 37.796875 51.625 33 \r\nQ 55.609375 28.21875 55.609375 21.1875 \r\nQ 55.609375 10.40625 48.1875 4.484375 \r\nQ 40.765625 -1.421875 27.09375 -1.421875 \r\nQ 22.515625 -1.421875 17.65625 -0.515625 \r\nQ 12.796875 0.390625 7.625 2.203125 \r\nL 7.625 11.71875 \r\nQ 11.71875 9.328125 16.59375 8.109375 \r\nQ 21.484375 6.890625 26.8125 6.890625 \r\nQ 36.078125 6.890625 40.9375 10.546875 \r\nQ 45.796875 14.203125 45.796875 21.1875 \r\nQ 45.796875 27.640625 41.28125 31.265625 \r\nQ 36.765625 34.90625 28.71875 34.90625 \r\nL 20.21875 34.90625 \r\nL 20.21875 43.015625 \r\nL 29.109375 43.015625 \r\nQ 36.375 43.015625 40.234375 45.921875 \r\nQ 44.09375 48.828125 44.09375 54.296875 \r\nQ 44.09375 59.90625 40.109375 62.90625 \r\nQ 36.140625 65.921875 28.71875 65.921875 \r\nQ 24.65625 65.921875 20.015625 65.03125 \r\nQ 15.375 64.15625 9.8125 62.3125 \r\nL 9.8125 71.09375 \r\nQ 15.4375 72.65625 20.34375 73.4375 \r\nQ 25.25 74.21875 29.59375 74.21875 \r\nQ 40.828125 74.21875 47.359375 69.109375 \r\nQ 53.90625 64.015625 53.90625 55.328125 \r\nQ 53.90625 49.265625 50.4375 45.09375 \r\nQ 46.96875 40.921875 40.578125 39.3125 \r\nz\r\n\" id=\"DejaVuSans-51\"/>\r\n      </defs>\r\n      <g transform=\"translate(7.2 14.798437)scale(0.1 -0.1)\">\r\n       <use xlink:href=\"#DejaVuSans-8722\"/>\r\n       <use x=\"83.789062\" xlink:href=\"#DejaVuSans-51\"/>\r\n       <use x=\"147.412109\" xlink:href=\"#DejaVuSans-53\"/>\r\n      </g>\r\n     </g>\r\n    </g>\r\n   </g>\r\n   <g id=\"line2d_16\">\r\n    <path clip-path=\"url(#pa32f8096db)\" d=\"M 50.522869 29.584317 \r\nL 70.813778 89.132514 \r\nL 91.104688 41.321019 \r\nL 111.395597 86.355978 \r\nL 131.686506 38.733744 \r\nL 151.977415 85.05418 \r\nL 172.268324 24.745372 \r\nL 192.559233 85.12814 \r\nL 212.850142 62.517268 \r\nL 233.141051 85.1592 \r\nL 253.43196 47.330247 \r\nL 273.722869 86.017695 \r\nL 294.013778 61.694607 \r\nL 314.304688 85.983568 \r\nL 334.595597 20.30648 \r\nL 354.886506 80.192409 \r\n\" style=\"fill:none;stroke:#1f77b4;stroke-linecap:square;stroke-width:1.5;\"/>\r\n   </g>\r\n   <g id=\"line2d_17\">\r\n    <path clip-path=\"url(#pa32f8096db)\" d=\"M 50.522869 217.979207 \r\nL 70.813778 216.222791 \r\nL 91.104688 215.575083 \r\nL 111.395597 213.223279 \r\nL 131.686506 213.577838 \r\nL 151.977415 211.627504 \r\nL 172.268324 210.596499 \r\nL 192.559233 209.605651 \r\nL 212.850142 209.56166 \r\nL 233.141051 209.108814 \r\nL 253.43196 208.03455 \r\nL 273.722869 207.8264 \r\nL 294.013778 206.685926 \r\nL 314.304688 207.986925 \r\nL 334.595597 206.885761 \r\nL 354.886506 206.299988 \r\n\" style=\"fill:none;stroke:#ff7f0e;stroke-linecap:square;stroke-width:1.5;\"/>\r\n   </g>\r\n   <g id=\"patch_3\">\r\n    <path d=\"M 35.304688 227.862843 \r\nL 35.304688 10.422843 \r\n\" style=\"fill:none;stroke:#000000;stroke-linecap:square;stroke-linejoin:miter;stroke-width:0.8;\"/>\r\n   </g>\r\n   <g id=\"patch_4\">\r\n    <path d=\"M 370.104688 227.862843 \r\nL 370.104688 10.422843 \r\n\" style=\"fill:none;stroke:#000000;stroke-linecap:square;stroke-linejoin:miter;stroke-width:0.8;\"/>\r\n   </g>\r\n   <g id=\"patch_5\">\r\n    <path d=\"M 35.304688 227.862843 \r\nL 370.104688 227.862843 \r\n\" style=\"fill:none;stroke:#000000;stroke-linecap:square;stroke-linejoin:miter;stroke-width:0.8;\"/>\r\n   </g>\r\n   <g id=\"patch_6\">\r\n    <path d=\"M 35.304688 10.422843 \r\nL 370.104688 10.422843 \r\n\" style=\"fill:none;stroke:#000000;stroke-linecap:square;stroke-linejoin:miter;stroke-width:0.8;\"/>\r\n   </g>\r\n  </g>\r\n </g>\r\n <defs>\r\n  <clipPath id=\"pa32f8096db\">\r\n   <rect height=\"217.44\" width=\"334.8\" x=\"35.304688\" y=\"10.422843\"/>\r\n  </clipPath>\r\n </defs>\r\n</svg>\r\n",
      "text/plain": [
       "<Figure size 432x288 with 1 Axes>"
      ]
     },
     "metadata": {
      "needs_background": "light"
     },
     "output_type": "display_data"
    }
   ],
   "source": [
    "plt.plot(np.log(error_history_1))\n",
    "plt.plot(np.log(error_history_2))"
   ]
  },
  {
   "cell_type": "code",
   "execution_count": null,
   "metadata": {},
   "outputs": [],
   "source": []
  }
 ],
 "metadata": {
  "kernelspec": {
   "display_name": "Python 3",
   "language": "python",
   "name": "python3"
  },
  "language_info": {
   "codemirror_mode": {
    "name": "ipython",
    "version": 3
   },
   "file_extension": ".py",
   "mimetype": "text/x-python",
   "name": "python",
   "nbconvert_exporter": "python",
   "pygments_lexer": "ipython3",
   "version": "3.8.3"
  },
  "orig_nbformat": 2
 },
 "nbformat": 4,
 "nbformat_minor": 2
}
